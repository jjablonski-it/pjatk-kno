{
 "cells": [
  {
   "cell_type": "code",
   "execution_count": 2,
   "metadata": {},
   "outputs": [
    {
     "name": "stderr",
     "output_type": "stream",
     "text": [
      "[nltk_data] Downloading package vader_lexicon to\n",
      "[nltk_data]     /Users/schibsted/nltk_data...\n"
     ]
    },
    {
     "data": {
      "text/plain": [
       "True"
      ]
     },
     "execution_count": 2,
     "metadata": {},
     "output_type": "execute_result"
    }
   ],
   "source": [
    "import nltk\n",
    "from nltk.sentiment.vader import SentimentIntensityAnalyzer\n",
    "nltk.download('vader_lexicon')"
   ]
  },
  {
   "cell_type": "code",
   "execution_count": 3,
   "metadata": {},
   "outputs": [],
   "source": [
    "positive = \"Beautifully furnished and comfortable. Location could not be better. Great value.\"\n",
    "negative = \"Room was extremely tiny. Shower only had boiling hot water, and even after fixing it, it was still very hot. No reception. Front door code was changed despite us telling the manager that we will be back for luggage.\""
   ]
  },
  {
   "cell_type": "code",
   "execution_count": 7,
   "metadata": {},
   "outputs": [
    {
     "name": "stdout",
     "output_type": "stream",
     "text": [
      "positive {'neg': 0.27, 'neu': 0.284, 'pos': 0.445, 'compound': 0.5719}\n",
      "negative {'neg': 0.061, 'neu': 0.939, 'pos': 0.0, 'compound': -0.3566}\n"
     ]
    }
   ],
   "source": [
    "# Sentiment Analysis\n",
    "sid = SentimentIntensityAnalyzer()\n",
    "print('positive', sid.polarity_scores(positive))\n",
    "print('negative', sid.polarity_scores(negative))\n"
   ]
  }
 ],
 "metadata": {
  "kernelspec": {
   "display_name": "Python 3.10.2 64-bit ('3.10.2')",
   "language": "python",
   "name": "python3"
  },
  "language_info": {
   "codemirror_mode": {
    "name": "ipython",
    "version": 3
   },
   "file_extension": ".py",
   "mimetype": "text/x-python",
   "name": "python",
   "nbconvert_exporter": "python",
   "pygments_lexer": "ipython3",
   "version": "3.10.2"
  },
  "orig_nbformat": 4,
  "vscode": {
   "interpreter": {
    "hash": "2ed43b33a80bd1abfa5adc7d5305df4ab21b5e0518aafbc76641cd1399e21943"
   }
  }
 },
 "nbformat": 4,
 "nbformat_minor": 2
}
